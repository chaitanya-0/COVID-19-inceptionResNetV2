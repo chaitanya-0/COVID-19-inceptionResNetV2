{
  "cells": [
    {
      "cell_type": "code",
      "execution_count": 1,
      "metadata": {
        "id": "l4brD6y1cpdm"
      },
      "outputs": [],
      "source": [
        "import pandas as pd\n",
        "import numpy as np\n",
        "import matplotlib.pyplot as plt\n",
        "import seaborn as sns\n",
        "import os\n",
        "import tensorflow as tf\n",
        "import tensorflow\n",
        "from tensorflow.keras.preprocessing.image import load_img, ImageDataGenerator\n",
        "import cv2\n",
        "import time"
      ]
    },
    {
      "cell_type": "code",
      "execution_count": 2,
      "metadata": {},
      "outputs": [],
      "source": [
        "physical_devices = tf.config.list_physical_devices(\"GPU\")"
      ]
    },
    {
      "cell_type": "code",
      "execution_count": 3,
      "metadata": {},
      "outputs": [],
      "source": [
        "tf.config.experimental.set_memory_growth(physical_devices[0], True)"
      ]
    },
    {
      "cell_type": "code",
      "execution_count": 4,
      "metadata": {},
      "outputs": [
        {
          "name": "stdout",
          "output_type": "stream",
          "text": [
            "[PhysicalDevice(name='/physical_device:GPU:0', device_type='GPU')]\n"
          ]
        }
      ],
      "source": [
        "print(physical_devices)"
      ]
    },
    {
      "cell_type": "code",
      "execution_count": 5,
      "metadata": {
        "colab": {
          "base_uri": "https://localhost:8080/"
        },
        "id": "0VCuNLbqcr-m",
        "outputId": "c2ba37b9-4c65-4a00-87d1-56f97922bb66"
      },
      "outputs": [
        {
          "name": "stdout",
          "output_type": "stream",
          "text": [
            "Number of Covid Images in Training=  2023\n",
            "Number of Normal Images in Training=  5707\n",
            "Number of Pneumonia Images in Training=  753\n",
            "\n",
            "\n",
            "Number of Covid Images in Validation=  869\n",
            "Number of Normal Images in Validation=  3761\n",
            "Number of Pneumonia Images in Validation=  323\n",
            "\n",
            "\n",
            "Number of Covid Images in Test=  724\n",
            "Number of Normal Images in Test=  724\n",
            "Number of Pneumonia Images in Test=  724\n"
          ]
        }
      ],
      "source": [
        "train_covid_path=\"E:/datasets/Covid_19_dataset/train/covid/\"\n",
        "train_normal_path=\"E:/datasets/Covid_19_dataset/train/normal/\"\n",
        "train_pneumonia_path=\"E:/datasets/Covid_19_dataset/train/pneumonia/\"\n",
        "\n",
        "valid_covid_path=\"E:/datasets/Covid_19_dataset/validate/covid/\"\n",
        "valid_normal_path=\"E:/datasets/Covid_19_dataset/validate/normal/\"\n",
        "valid_pneumonia_path=\"E:/datasets/Covid_19_dataset/validate/pneumonia/\"\n",
        "\n",
        "train_covid_image=os.listdir(train_covid_path)\n",
        "train_normal_image=os.listdir(train_normal_path)\n",
        "train_pneumonia_image=os.listdir(train_pneumonia_path)\n",
        "\n",
        "valid_covid_image=os.listdir(valid_covid_path)\n",
        "valid_normal_image=os.listdir(valid_normal_path)\n",
        "valid_pneumonia_image=os.listdir(valid_pneumonia_path)\n",
        "\n",
        "print(\"Number of Covid Images in Training= \",len(train_covid_image))\n",
        "print(\"Number of Normal Images in Training= \",len(train_normal_image ))\n",
        "print(\"Number of Pneumonia Images in Training= \",len(train_pneumonia_image ))\n",
        "\n",
        "print('\\n')\n",
        "print(\"Number of Covid Images in Validation= \",len(valid_covid_image))\n",
        "print(\"Number of Normal Images in Validation= \",len(valid_normal_image))\n",
        "print(\"Number of Pneumonia Images in Validation= \",len(valid_pneumonia_image))\n",
        "\n",
        "test_path=\"E:/datasets/Covid_19_dataset/test\"\n",
        "\n",
        "test_covid_path=\"E:/datasets/Covid_19_dataset/test/covid/\"\n",
        "test_normal_path=\"E:/datasets/Covid_19_dataset/test/covid/\"\n",
        "test_pneumonia_path=\"E:/datasets/Covid_19_dataset/test/covid/\"\n",
        "\n",
        "test_covid_image=os.listdir(test_covid_path)\n",
        "test_normal_image=os.listdir(test_normal_path)\n",
        "test_pneumonia_image=os.listdir(test_pneumonia_path)\n",
        "\n",
        "print('\\n')\n",
        "print(\"Number of Covid Images in Test= \",len(test_covid_image))\n",
        "print(\"Number of Normal Images in Test= \",len(test_normal_image ))\n",
        "print(\"Number of Pneumonia Images in Test= \",len(test_pneumonia_image ))"
      ]
    },
    {
      "cell_type": "code",
      "execution_count": 14,
      "metadata": {},
      "outputs": [
        {
          "name": "stdout",
          "output_type": "stream",
          "text": [
            "{'covid': 2317, 'normal': 5209, 'pneumonia': 1771}\n"
          ]
        }
      ],
      "source": [
        "data_dict = {\n",
        "    \n",
        "}\n",
        "data_dict['covid']=int(len(test_covid_image) + len(valid_covid_image) + len(test_covid_image))\n",
        "data_dict['normal']=int(len(test_normal_image) + len(valid_normal_image) + len(test_normal_image))\n",
        "data_dict['pneumonia']=int(len(test_pneumonia_image) + len(valid_pneumonia_image) + len(test_pneumonia_image))\n",
        "print(data_dict)"
      ]
    },
    {
      "cell_type": "code",
      "execution_count": 17,
      "metadata": {},
      "outputs": [
        {
          "data": {
            "image/png": "[encoded data removed]",
            "text/plain": [
              "<Figure size 432x288 with 1 Axes>"
            ]
          },
          "metadata": {
            "needs_background": "light"
          },
          "output_type": "display_data"
        }
      ],
      "source": [
        "#plot bar graph\n",
        "plt.bar(data_dict.keys(), data_dict.values())\n",
        "plt.xlabel(\"Classes\")\n",
        "plt.ylabel(\"Number of images\")\n",
        "plt.title(\"Dataset overiew\")\n",
        "plt.show()"
      ]
    },
    {
      "cell_type": "code",
      "execution_count": 8,
      "metadata": {
        "colab": {
          "base_uri": "https://localhost:8080/"
        },
        "id": "Vodz89Dscr79",
        "outputId": "6a6c1ccb-fa91-4995-808e-b74398565a9d"
      },
      "outputs": [],
      "source": [
        "base_model2=tf.keras.applications.InceptionResNetV2(weights='imagenet',include_top=False)\n",
        "# Design new model\n",
        "x=base_model2.output\n",
        "x=tf.keras.layers.GlobalAveragePooling2D()(x)\n",
        "x=tf.keras.layers.Dense(1024,activation='relu')(x)\n",
        "x=tf.keras.layers.Dropout(0.2)(x)\n",
        "x = tf.keras.layers.Dense(1024, activation = 'relu')(x)\n",
        "x=tf.keras.layers.Dropout(0.2)(x)\n",
        "x = tf.keras.layers.Dense(1024, activation = 'relu')(x)\n",
        "x=tf.keras.layers.Dropout(0.2)(x)\n",
        "x = tf.keras.layers.Dense(1024, activation = 'relu')(x)\n",
        "x=tf.keras.layers.Dropout(0.2)(x)\n",
        "\n",
        "preds = tf.keras.layers.Dense(3, activation = 'softmax')(x)  # This layer will have output. So It will have only three neurons\n",
        "\n",
        "incep_model=tf.keras.models.Model(inputs = base_model2.input, outputs = preds)\n",
        "opt=tf.keras.optimizers.SGD(lr=0.01, decay=1e-6, momentum=0.9, nesterov=True)\n",
        "incep_model.compile(loss=tf.keras.losses.categorical_crossentropy,optimizer=opt,metrics=['accuracy'])"
      ]
    },
    {
      "cell_type": "code",
      "execution_count": 9,
      "metadata": {
        "colab": {
          "base_uri": "https://localhost:8080/"
        },
        "id": "UF7q3v7pcr4x",
        "outputId": "597e9f3b-3d61-4c1b-b31e-afc20316ca2a"
      },
      "outputs": [
        {
          "name": "stdout",
          "output_type": "stream",
          "text": [
            "0 input_2\n",
            "1 conv2d_203\n",
            "2 batch_normalization_203\n",
            "3 activation_203\n",
            "4 conv2d_204\n",
            "5 batch_normalization_204\n",
            "6 activation_204\n",
            "7 conv2d_205\n",
            "8 batch_normalization_205\n",
            "9 activation_205\n",
            "10 max_pooling2d_4\n",
            "11 conv2d_206\n",
            "12 batch_normalization_206\n",
            "13 activation_206\n",
            "14 conv2d_207\n",
            "15 batch_normalization_207\n",
            "16 activation_207\n",
            "17 max_pooling2d_5\n",
            "18 conv2d_211\n",
            "19 batch_normalization_211\n",
            "20 activation_211\n",
            "21 conv2d_209\n",
            "22 conv2d_212\n",
            "23 batch_normalization_209\n",
            "24 batch_normalization_212\n",
            "25 activation_209\n",
            "26 activation_212\n",
            "27 average_pooling2d_1\n",
            "28 conv2d_208\n",
            "29 conv2d_210\n",
            "30 conv2d_213\n",
            "31 conv2d_214\n",
            "32 batch_normalization_208\n",
            "33 batch_normalization_210\n",
            "34 batch_normalization_213\n",
            "35 batch_normalization_214\n",
            "36 activation_208\n",
            "37 activation_210\n",
            "38 activation_213\n",
            "39 activation_214\n",
            "40 mixed_5b\n",
            "41 conv2d_218\n",
            "42 batch_normalization_218\n",
            "43 activation_218\n",
            "44 conv2d_216\n",
            "45 conv2d_219\n",
            "46 batch_normalization_216\n",
            "47 batch_normalization_219\n",
            "48 activation_216\n",
            "49 activation_219\n",
            "50 conv2d_215\n",
            "51 conv2d_217\n",
            "52 conv2d_220\n",
            "53 batch_normalization_215\n",
            "54 batch_normalization_217\n",
            "55 batch_normalization_220\n",
            "56 activation_215\n",
            "57 activation_217\n",
            "58 activation_220\n",
            "59 block35_1_mixed\n",
            "60 block35_1_conv\n",
            "61 block35_1\n",
            "62 block35_1_ac\n",
            "63 conv2d_224\n",
            "64 batch_normalization_224\n",
            "65 activation_224\n",
            "66 conv2d_222\n",
            "67 conv2d_225\n",
            "68 batch_normalization_222\n",
            "69 batch_normalization_225\n",
            "70 activation_222\n",
            "71 activation_225\n",
            "72 conv2d_221\n",
            "73 conv2d_223\n",
            "74 conv2d_226\n",
            "75 batch_normalization_221\n",
            "76 batch_normalization_223\n",
            "77 batch_normalization_226\n",
            "78 activation_221\n",
            "79 activation_223\n",
            "80 activation_226\n",
            "81 block35_2_mixed\n",
            "82 block35_2_conv\n",
            "83 block35_2\n",
            "84 block35_2_ac\n",
            "85 conv2d_230\n",
            "86 batch_normalization_230\n",
            "87 activation_230\n",
            "88 conv2d_228\n",
            "89 conv2d_231\n",
            "90 batch_normalization_228\n",
            "91 batch_normalization_231\n",
            "92 activation_228\n",
            "93 activation_231\n",
            "94 conv2d_227\n",
            "95 conv2d_229\n",
            "96 conv2d_232\n",
            "97 batch_normalization_227\n",
            "98 batch_normalization_229\n",
            "99 batch_normalization_232\n",
            "100 activation_227\n",
            "101 activation_229\n",
            "102 activation_232\n",
            "103 block35_3_mixed\n",
            "104 block35_3_conv\n",
            "105 block35_3\n",
            "106 block35_3_ac\n",
            "107 conv2d_236\n",
            "108 batch_normalization_236\n",
            "109 activation_236\n",
            "110 conv2d_234\n",
            "111 conv2d_237\n",
            "112 batch_normalization_234\n",
            "113 batch_normalization_237\n",
            "114 activation_234\n",
            "115 activation_237\n",
            "116 conv2d_233\n",
            "117 conv2d_235\n",
            "118 conv2d_238\n",
            "119 batch_normalization_233\n",
            "120 batch_normalization_235\n",
            "121 batch_normalization_238\n",
            "122 activation_233\n",
            "123 activation_235\n",
            "124 activation_238\n",
            "125 block35_4_mixed\n",
            "126 block35_4_conv\n",
            "127 block35_4\n",
            "128 block35_4_ac\n",
            "129 conv2d_242\n",
            "130 batch_normalization_242\n",
            "131 activation_242\n",
            "132 conv2d_240\n",
            "133 conv2d_243\n",
            "134 batch_normalization_240\n",
            "135 batch_normalization_243\n",
            "136 activation_240\n",
            "137 activation_243\n",
            "138 conv2d_239\n",
            "139 conv2d_241\n",
            "140 conv2d_244\n",
            "141 batch_normalization_239\n",
            "142 batch_normalization_241\n",
            "143 batch_normalization_244\n",
            "144 activation_239\n",
            "145 activation_241\n",
            "146 activation_244\n",
            "147 block35_5_mixed\n",
            "148 block35_5_conv\n",
            "149 block35_5\n",
            "150 block35_5_ac\n",
            "151 conv2d_248\n",
            "152 batch_normalization_248\n",
            "153 activation_248\n",
            "154 conv2d_246\n",
            "155 conv2d_249\n",
            "156 batch_normalization_246\n",
            "157 batch_normalization_249\n",
            "158 activation_246\n",
            "159 activation_249\n",
            "160 conv2d_245\n",
            "161 conv2d_247\n",
            "162 conv2d_250\n",
            "163 batch_normalization_245\n",
            "164 batch_normalization_247\n",
            "165 batch_normalization_250\n",
            "166 activation_245\n",
            "167 activation_247\n",
            "168 activation_250\n",
            "169 block35_6_mixed\n",
            "170 block35_6_conv\n",
            "171 block35_6\n",
            "172 block35_6_ac\n",
            "173 conv2d_254\n",
            "174 batch_normalization_254\n",
            "175 activation_254\n",
            "176 conv2d_252\n",
            "177 conv2d_255\n",
            "178 batch_normalization_252\n",
            "179 batch_normalization_255\n",
            "180 activation_252\n",
            "181 activation_255\n",
            "182 conv2d_251\n",
            "183 conv2d_253\n",
            "184 conv2d_256\n",
            "185 batch_normalization_251\n",
            "186 batch_normalization_253\n",
            "187 batch_normalization_256\n",
            "188 activation_251\n",
            "189 activation_253\n",
            "190 activation_256\n",
            "191 block35_7_mixed\n",
            "192 block35_7_conv\n",
            "193 block35_7\n",
            "194 block35_7_ac\n",
            "195 conv2d_260\n",
            "196 batch_normalization_260\n",
            "197 activation_260\n",
            "198 conv2d_258\n",
            "199 conv2d_261\n",
            "200 batch_normalization_258\n",
            "201 batch_normalization_261\n",
            "202 activation_258\n",
            "203 activation_261\n",
            "204 conv2d_257\n",
            "205 conv2d_259\n",
            "206 conv2d_262\n",
            "207 batch_normalization_257\n",
            "208 batch_normalization_259\n",
            "209 batch_normalization_262\n",
            "210 activation_257\n",
            "211 activation_259\n",
            "212 activation_262\n",
            "213 block35_8_mixed\n",
            "214 block35_8_conv\n",
            "215 block35_8\n",
            "216 block35_8_ac\n",
            "217 conv2d_266\n",
            "218 batch_normalization_266\n",
            "219 activation_266\n",
            "220 conv2d_264\n",
            "221 conv2d_267\n",
            "222 batch_normalization_264\n",
            "223 batch_normalization_267\n",
            "224 activation_264\n",
            "225 activation_267\n",
            "226 conv2d_263\n",
            "227 conv2d_265\n",
            "228 conv2d_268\n",
            "229 batch_normalization_263\n",
            "230 batch_normalization_265\n",
            "231 batch_normalization_268\n",
            "232 activation_263\n",
            "233 activation_265\n",
            "234 activation_268\n",
            "235 block35_9_mixed\n",
            "236 block35_9_conv\n",
            "237 block35_9\n",
            "238 block35_9_ac\n",
            "239 conv2d_272\n",
            "240 batch_normalization_272\n",
            "241 activation_272\n",
            "242 conv2d_270\n",
            "243 conv2d_273\n",
            "244 batch_normalization_270\n",
            "245 batch_normalization_273\n",
            "246 activation_270\n",
            "247 activation_273\n",
            "248 conv2d_269\n",
            "249 conv2d_271\n",
            "250 conv2d_274\n",
            "251 batch_normalization_269\n",
            "252 batch_normalization_271\n",
            "253 batch_normalization_274\n",
            "254 activation_269\n",
            "255 activation_271\n",
            "256 activation_274\n",
            "257 block35_10_mixed\n",
            "258 block35_10_conv\n",
            "259 block35_10\n",
            "260 block35_10_ac\n",
            "261 conv2d_276\n",
            "262 batch_normalization_276\n",
            "263 activation_276\n",
            "264 conv2d_277\n",
            "265 batch_normalization_277\n",
            "266 activation_277\n",
            "267 conv2d_275\n",
            "268 conv2d_278\n",
            "269 batch_normalization_275\n",
            "270 batch_normalization_278\n",
            "271 activation_275\n",
            "272 activation_278\n",
            "273 max_pooling2d_6\n",
            "274 mixed_6a\n",
            "275 conv2d_280\n",
            "276 batch_normalization_280\n",
            "277 activation_280\n",
            "278 conv2d_281\n",
            "279 batch_normalization_281\n",
            "280 activation_281\n",
            "281 conv2d_279\n",
            "282 conv2d_282\n",
            "283 batch_normalization_279\n",
            "284 batch_normalization_282\n",
            "285 activation_279\n",
            "286 activation_282\n",
            "287 block17_1_mixed\n",
            "288 block17_1_conv\n",
            "289 block17_1\n",
            "290 block17_1_ac\n",
            "291 conv2d_284\n",
            "292 batch_normalization_284\n",
            "293 activation_284\n",
            "294 conv2d_285\n",
            "295 batch_normalization_285\n",
            "296 activation_285\n",
            "297 conv2d_283\n",
            "298 conv2d_286\n",
            "299 batch_normalization_283\n",
            "300 batch_normalization_286\n",
            "301 activation_283\n",
            "302 activation_286\n",
            "303 block17_2_mixed\n",
            "304 block17_2_conv\n",
            "305 block17_2\n",
            "306 block17_2_ac\n",
            "307 conv2d_288\n",
            "308 batch_normalization_288\n",
            "309 activation_288\n",
            "310 conv2d_289\n",
            "311 batch_normalization_289\n",
            "312 activation_289\n",
            "313 conv2d_287\n",
            "314 conv2d_290\n",
            "315 batch_normalization_287\n",
            "316 batch_normalization_290\n",
            "317 activation_287\n",
            "318 activation_290\n",
            "319 block17_3_mixed\n",
            "320 block17_3_conv\n",
            "321 block17_3\n",
            "322 block17_3_ac\n",
            "323 conv2d_292\n",
            "324 batch_normalization_292\n",
            "325 activation_292\n",
            "326 conv2d_293\n",
            "327 batch_normalization_293\n",
            "328 activation_293\n",
            "329 conv2d_291\n",
            "330 conv2d_294\n",
            "331 batch_normalization_291\n",
            "332 batch_normalization_294\n",
            "333 activation_291\n",
            "334 activation_294\n",
            "335 block17_4_mixed\n",
            "336 block17_4_conv\n",
            "337 block17_4\n",
            "338 block17_4_ac\n",
            "339 conv2d_296\n",
            "340 batch_normalization_296\n",
            "341 activation_296\n",
            "342 conv2d_297\n",
            "343 batch_normalization_297\n",
            "344 activation_297\n",
            "345 conv2d_295\n",
            "346 conv2d_298\n",
            "347 batch_normalization_295\n",
            "348 batch_normalization_298\n",
            "349 activation_295\n",
            "350 activation_298\n",
            "351 block17_5_mixed\n",
            "352 block17_5_conv\n",
            "353 block17_5\n",
            "354 block17_5_ac\n",
            "355 conv2d_300\n",
            "356 batch_normalization_300\n",
            "357 activation_300\n",
            "358 conv2d_301\n",
            "359 batch_normalization_301\n",
            "360 activation_301\n",
            "361 conv2d_299\n",
            "362 conv2d_302\n",
            "363 batch_normalization_299\n",
            "364 batch_normalization_302\n",
            "365 activation_299\n",
            "366 activation_302\n",
            "367 block17_6_mixed\n",
            "368 block17_6_conv\n",
            "369 block17_6\n",
            "370 block17_6_ac\n",
            "371 conv2d_304\n",
            "372 batch_normalization_304\n",
            "373 activation_304\n",
            "374 conv2d_305\n",
            "375 batch_normalization_305\n",
            "376 activation_305\n",
            "377 conv2d_303\n",
            "378 conv2d_306\n",
            "379 batch_normalization_303\n",
            "380 batch_normalization_306\n",
            "381 activation_303\n",
            "382 activation_306\n",
            "383 block17_7_mixed\n",
            "384 block17_7_conv\n",
            "385 block17_7\n",
            "386 block17_7_ac\n",
            "387 conv2d_308\n",
            "388 batch_normalization_308\n",
            "389 activation_308\n",
            "390 conv2d_309\n",
            "391 batch_normalization_309\n",
            "392 activation_309\n",
            "393 conv2d_307\n",
            "394 conv2d_310\n",
            "395 batch_normalization_307\n",
            "396 batch_normalization_310\n",
            "397 activation_307\n",
            "398 activation_310\n",
            "399 block17_8_mixed\n",
            "400 block17_8_conv\n",
            "401 block17_8\n",
            "402 block17_8_ac\n",
            "403 conv2d_312\n",
            "404 batch_normalization_312\n",
            "405 activation_312\n",
            "406 conv2d_313\n",
            "407 batch_normalization_313\n",
            "408 activation_313\n",
            "409 conv2d_311\n",
            "410 conv2d_314\n",
            "411 batch_normalization_311\n",
            "412 batch_normalization_314\n",
            "413 activation_311\n",
            "414 activation_314\n",
            "415 block17_9_mixed\n",
            "416 block17_9_conv\n",
            "417 block17_9\n",
            "418 block17_9_ac\n",
            "419 conv2d_316\n",
            "420 batch_normalization_316\n",
            "421 activation_316\n",
            "422 conv2d_317\n",
            "423 batch_normalization_317\n",
            "424 activation_317\n",
            "425 conv2d_315\n",
            "426 conv2d_318\n",
            "427 batch_normalization_315\n",
            "428 batch_normalization_318\n",
            "429 activation_315\n",
            "430 activation_318\n",
            "431 block17_10_mixed\n",
            "432 block17_10_conv\n",
            "433 block17_10\n",
            "434 block17_10_ac\n",
            "435 conv2d_320\n",
            "436 batch_normalization_320\n",
            "437 activation_320\n",
            "438 conv2d_321\n",
            "439 batch_normalization_321\n",
            "440 activation_321\n",
            "441 conv2d_319\n",
            "442 conv2d_322\n",
            "443 batch_normalization_319\n",
            "444 batch_normalization_322\n",
            "445 activation_319\n",
            "446 activation_322\n",
            "447 block17_11_mixed\n",
            "448 block17_11_conv\n",
            "449 block17_11\n",
            "450 block17_11_ac\n",
            "451 conv2d_324\n",
            "452 batch_normalization_324\n",
            "453 activation_324\n",
            "454 conv2d_325\n",
            "455 batch_normalization_325\n",
            "456 activation_325\n",
            "457 conv2d_323\n",
            "458 conv2d_326\n",
            "459 batch_normalization_323\n",
            "460 batch_normalization_326\n",
            "461 activation_323\n",
            "462 activation_326\n",
            "463 block17_12_mixed\n",
            "464 block17_12_conv\n",
            "465 block17_12\n",
            "466 block17_12_ac\n",
            "467 conv2d_328\n",
            "468 batch_normalization_328\n",
            "469 activation_328\n",
            "470 conv2d_329\n",
            "471 batch_normalization_329\n",
            "472 activation_329\n",
            "473 conv2d_327\n",
            "474 conv2d_330\n",
            "475 batch_normalization_327\n",
            "476 batch_normalization_330\n",
            "477 activation_327\n",
            "478 activation_330\n",
            "479 block17_13_mixed\n",
            "480 block17_13_conv\n",
            "481 block17_13\n",
            "482 block17_13_ac\n",
            "483 conv2d_332\n",
            "484 batch_normalization_332\n",
            "485 activation_332\n",
            "486 conv2d_333\n",
            "487 batch_normalization_333\n",
            "488 activation_333\n",
            "489 conv2d_331\n",
            "490 conv2d_334\n",
            "491 batch_normalization_331\n",
            "492 batch_normalization_334\n",
            "493 activation_331\n",
            "494 activation_334\n",
            "495 block17_14_mixed\n",
            "496 block17_14_conv\n",
            "497 block17_14\n",
            "498 block17_14_ac\n",
            "499 conv2d_336\n",
            "500 batch_normalization_336\n",
            "501 activation_336\n",
            "502 conv2d_337\n",
            "503 batch_normalization_337\n",
            "504 activation_337\n",
            "505 conv2d_335\n",
            "506 conv2d_338\n",
            "507 batch_normalization_335\n",
            "508 batch_normalization_338\n",
            "509 activation_335\n",
            "510 activation_338\n",
            "511 block17_15_mixed\n",
            "512 block17_15_conv\n",
            "513 block17_15\n",
            "514 block17_15_ac\n",
            "515 conv2d_340\n",
            "516 batch_normalization_340\n",
            "517 activation_340\n",
            "518 conv2d_341\n",
            "519 batch_normalization_341\n",
            "520 activation_341\n",
            "521 conv2d_339\n",
            "522 conv2d_342\n",
            "523 batch_normalization_339\n",
            "524 batch_normalization_342\n",
            "525 activation_339\n",
            "526 activation_342\n",
            "527 block17_16_mixed\n",
            "528 block17_16_conv\n",
            "529 block17_16\n",
            "530 block17_16_ac\n",
            "531 conv2d_344\n",
            "532 batch_normalization_344\n",
            "533 activation_344\n",
            "534 conv2d_345\n",
            "535 batch_normalization_345\n",
            "536 activation_345\n",
            "537 conv2d_343\n",
            "538 conv2d_346\n",
            "539 batch_normalization_343\n",
            "540 batch_normalization_346\n",
            "541 activation_343\n",
            "542 activation_346\n",
            "543 block17_17_mixed\n",
            "544 block17_17_conv\n",
            "545 block17_17\n",
            "546 block17_17_ac\n",
            "547 conv2d_348\n",
            "548 batch_normalization_348\n",
            "549 activation_348\n",
            "550 conv2d_349\n",
            "551 batch_normalization_349\n",
            "552 activation_349\n",
            "553 conv2d_347\n",
            "554 conv2d_350\n",
            "555 batch_normalization_347\n",
            "556 batch_normalization_350\n",
            "557 activation_347\n",
            "558 activation_350\n",
            "559 block17_18_mixed\n",
            "560 block17_18_conv\n",
            "561 block17_18\n",
            "562 block17_18_ac\n",
            "563 conv2d_352\n",
            "564 batch_normalization_352\n",
            "565 activation_352\n",
            "566 conv2d_353\n",
            "567 batch_normalization_353\n",
            "568 activation_353\n",
            "569 conv2d_351\n",
            "570 conv2d_354\n",
            "571 batch_normalization_351\n",
            "572 batch_normalization_354\n",
            "573 activation_351\n",
            "574 activation_354\n",
            "575 block17_19_mixed\n",
            "576 block17_19_conv\n",
            "577 block17_19\n",
            "578 block17_19_ac\n",
            "579 conv2d_356\n",
            "580 batch_normalization_356\n",
            "581 activation_356\n",
            "582 conv2d_357\n",
            "583 batch_normalization_357\n",
            "584 activation_357\n",
            "585 conv2d_355\n",
            "586 conv2d_358\n",
            "587 batch_normalization_355\n",
            "588 batch_normalization_358\n",
            "589 activation_355\n",
            "590 activation_358\n",
            "591 block17_20_mixed\n",
            "592 block17_20_conv\n",
            "593 block17_20\n",
            "594 block17_20_ac\n",
            "595 conv2d_363\n",
            "596 batch_normalization_363\n",
            "597 activation_363\n",
            "598 conv2d_359\n",
            "599 conv2d_361\n",
            "600 conv2d_364\n",
            "601 batch_normalization_359\n",
            "602 batch_normalization_361\n",
            "603 batch_normalization_364\n",
            "604 activation_359\n",
            "605 activation_361\n",
            "606 activation_364\n",
            "607 conv2d_360\n",
            "608 conv2d_362\n",
            "609 conv2d_365\n",
            "610 batch_normalization_360\n",
            "611 batch_normalization_362\n",
            "612 batch_normalization_365\n",
            "613 activation_360\n",
            "614 activation_362\n",
            "615 activation_365\n",
            "616 max_pooling2d_7\n",
            "617 mixed_7a\n",
            "618 conv2d_367\n",
            "619 batch_normalization_367\n",
            "620 activation_367\n",
            "621 conv2d_368\n",
            "622 batch_normalization_368\n",
            "623 activation_368\n",
            "624 conv2d_366\n",
            "625 conv2d_369\n",
            "626 batch_normalization_366\n",
            "627 batch_normalization_369\n",
            "628 activation_366\n",
            "629 activation_369\n",
            "630 block8_1_mixed\n",
            "631 block8_1_conv\n",
            "632 block8_1\n",
            "633 block8_1_ac\n",
            "634 conv2d_371\n",
            "635 batch_normalization_371\n",
            "636 activation_371\n",
            "637 conv2d_372\n",
            "638 batch_normalization_372\n",
            "639 activation_372\n",
            "640 conv2d_370\n",
            "641 conv2d_373\n",
            "642 batch_normalization_370\n",
            "643 batch_normalization_373\n",
            "644 activation_370\n",
            "645 activation_373\n",
            "646 block8_2_mixed\n",
            "647 block8_2_conv\n",
            "648 block8_2\n",
            "649 block8_2_ac\n",
            "650 conv2d_375\n",
            "651 batch_normalization_375\n",
            "652 activation_375\n",
            "653 conv2d_376\n",
            "654 batch_normalization_376\n",
            "655 activation_376\n",
            "656 conv2d_374\n",
            "657 conv2d_377\n",
            "658 batch_normalization_374\n",
            "659 batch_normalization_377\n",
            "660 activation_374\n",
            "661 activation_377\n",
            "662 block8_3_mixed\n",
            "663 block8_3_conv\n",
            "664 block8_3\n",
            "665 block8_3_ac\n",
            "666 conv2d_379\n",
            "667 batch_normalization_379\n",
            "668 activation_379\n",
            "669 conv2d_380\n",
            "670 batch_normalization_380\n",
            "671 activation_380\n",
            "672 conv2d_378\n",
            "673 conv2d_381\n",
            "674 batch_normalization_378\n",
            "675 batch_normalization_381\n",
            "676 activation_378\n",
            "677 activation_381\n",
            "678 block8_4_mixed\n",
            "679 block8_4_conv\n",
            "680 block8_4\n",
            "681 block8_4_ac\n",
            "682 conv2d_383\n",
            "683 batch_normalization_383\n",
            "684 activation_383\n",
            "685 conv2d_384\n",
            "686 batch_normalization_384\n",
            "687 activation_384\n",
            "688 conv2d_382\n",
            "689 conv2d_385\n",
            "690 batch_normalization_382\n",
            "691 batch_normalization_385\n",
            "692 activation_382\n",
            "693 activation_385\n",
            "694 block8_5_mixed\n",
            "695 block8_5_conv\n",
            "696 block8_5\n",
            "697 block8_5_ac\n",
            "698 conv2d_387\n",
            "699 batch_normalization_387\n",
            "700 activation_387\n",
            "701 conv2d_388\n",
            "702 batch_normalization_388\n",
            "703 activation_388\n",
            "704 conv2d_386\n",
            "705 conv2d_389\n",
            "706 batch_normalization_386\n",
            "707 batch_normalization_389\n",
            "708 activation_386\n",
            "709 activation_389\n",
            "710 block8_6_mixed\n",
            "711 block8_6_conv\n",
            "712 block8_6\n",
            "713 block8_6_ac\n",
            "714 conv2d_391\n",
            "715 batch_normalization_391\n",
            "716 activation_391\n",
            "717 conv2d_392\n",
            "718 batch_normalization_392\n",
            "719 activation_392\n",
            "720 conv2d_390\n",
            "721 conv2d_393\n",
            "722 batch_normalization_390\n",
            "723 batch_normalization_393\n",
            "724 activation_390\n",
            "725 activation_393\n",
            "726 block8_7_mixed\n",
            "727 block8_7_conv\n",
            "728 block8_7\n",
            "729 block8_7_ac\n",
            "730 conv2d_395\n",
            "731 batch_normalization_395\n",
            "732 activation_395\n",
            "733 conv2d_396\n",
            "734 batch_normalization_396\n",
            "735 activation_396\n",
            "736 conv2d_394\n",
            "737 conv2d_397\n",
            "738 batch_normalization_394\n",
            "739 batch_normalization_397\n",
            "740 activation_394\n",
            "741 activation_397\n",
            "742 block8_8_mixed\n",
            "743 block8_8_conv\n",
            "744 block8_8\n",
            "745 block8_8_ac\n",
            "746 conv2d_399\n",
            "747 batch_normalization_399\n",
            "748 activation_399\n",
            "749 conv2d_400\n",
            "750 batch_normalization_400\n",
            "751 activation_400\n",
            "752 conv2d_398\n",
            "753 conv2d_401\n",
            "754 batch_normalization_398\n",
            "755 batch_normalization_401\n",
            "756 activation_398\n",
            "757 activation_401\n",
            "758 block8_9_mixed\n",
            "759 block8_9_conv\n",
            "760 block8_9\n",
            "761 block8_9_ac\n",
            "762 conv2d_403\n",
            "763 batch_normalization_403\n",
            "764 activation_403\n",
            "765 conv2d_404\n",
            "766 batch_normalization_404\n",
            "767 activation_404\n",
            "768 conv2d_402\n",
            "769 conv2d_405\n",
            "770 batch_normalization_402\n",
            "771 batch_normalization_405\n",
            "772 activation_402\n",
            "773 activation_405\n",
            "774 block8_10_mixed\n",
            "775 block8_10_conv\n",
            "776 block8_10\n",
            "777 conv_7b\n",
            "778 conv_7b_bn\n",
            "779 conv_7b_ac\n",
            "780 global_average_pooling2d_1\n",
            "781 dense_5\n",
            "782 dropout_4\n",
            "783 dense_6\n",
            "784 dropout_5\n",
            "785 dense_7\n",
            "786 dropout_6\n",
            "787 dense_8\n",
            "788 dropout_7\n",
            "789 dense_9\n"
          ]
        }
      ],
      "source": [
        "for i,layer in enumerate(incep_model.layers):\n",
        "  print(i,layer.name)"
      ]
    },
    {
      "cell_type": "code",
      "execution_count": 10,
      "metadata": {
        "id": "aDxHWUnicr2r"
      },
      "outputs": [],
      "source": [
        "for layer in incep_model.layers[:780]:\n",
        "  layer.trainable=False\n",
        "for layer in incep_model.layers[780:]:\n",
        "  layer.trainable=True"
      ]
    },
    {
      "cell_type": "code",
      "execution_count": 6,
      "metadata": {
        "colab": {
          "base_uri": "https://localhost:8080/",
          "height": 34
        },
        "id": "7LPUIW90crzR",
        "outputId": "118dfb03-38c1-457e-aefa-df07c3c5a5dc"
      },
      "outputs": [
        {
          "name": "stdout",
          "output_type": "stream",
          "text": [
            "Found 8483 images belonging to 3 classes.\n"
          ]
        }
      ],
      "source": [
        "# prepare Training data\n",
        "\n",
        "train_generator=ImageDataGenerator(preprocessing_function=tf.keras.applications.inception_resnet_v2.preprocess_input)\n",
        "train_data=train_generator.flow_from_directory(\"E:/datasets/Covid_19_dataset/train\",target_size=(299,299),class_mode='categorical', batch_size=8, shuffle=True)"
      ]
    },
    {
      "cell_type": "code",
      "execution_count": 7,
      "metadata": {},
      "outputs": [
        {
          "data": {
            "text/plain": [
              "1061"
            ]
          },
          "execution_count": 7,
          "metadata": {},
          "output_type": "execute_result"
        }
      ],
      "source": [
        "len(train_data)"
      ]
    },
    {
      "cell_type": "code",
      "execution_count": 22,
      "metadata": {
        "colab": {
          "base_uri": "https://localhost:8080/",
          "height": 34
        },
        "id": "AQdEDje-crwZ",
        "outputId": "75a3869e-2d2d-497b-f33b-4c8a7aa1c609"
      },
      "outputs": [
        {
          "name": "stdout",
          "output_type": "stream",
          "text": [
            "Found 4953 images belonging to 3 classes.\n"
          ]
        }
      ],
      "source": [
        "# prepare Validation data\n",
        "\n",
        "valid_generator=ImageDataGenerator(preprocessing_function=tf.keras.applications.inception_resnet_v2.preprocess_input)\n",
        "valid_data=valid_generator.flow_from_directory(\"E:/datasets/Covid_19_dataset/validate\",target_size=(299,299),class_mode='categorical',shuffle=True,batch_size=8)"
      ]
    },
    {
      "cell_type": "code",
      "execution_count": 23,
      "metadata": {
        "colab": {
          "base_uri": "https://localhost:8080/",
          "height": 34
        },
        "id": "86wyqSoxcrtX",
        "outputId": "1a22940a-2c7b-4911-ab3a-3d9927700f34"
      },
      "outputs": [
        {
          "data": {
            "text/plain": [
              "{'covid': 0, 'normal': 1, 'pneumonia': 2}"
            ]
          },
          "execution_count": 23,
          "metadata": {},
          "output_type": "execute_result"
        }
      ],
      "source": [
        "train_data.class_indices"
      ]
    },
    {
      "cell_type": "code",
      "execution_count": 25,
      "metadata": {
        "colab": {
          "base_uri": "https://localhost:8080/",
          "height": 235
        },
        "id": "njAuoof-BUMM",
        "outputId": "2048b48c-e64a-429d-bbea-d81ca1bbd203"
      },
      "outputs": [
        {
          "name": "stdout",
          "output_type": "stream",
          "text": [
            "Epoch 1/5\n"
          ]
        },
        {
          "name": "stderr",
          "output_type": "stream",
          "text": [
            "C:\\Users\\CHAITA~1\\AppData\\Local\\Temp/ipykernel_7072/2158365058.py:1: UserWarning: `Model.fit_generator` is deprecated and will be removed in a future version. Please use `Model.fit`, which supports generators.\n",
            "  hist=incep_model.fit_generator(train_data, epochs=5,validation_data=valid_data,use_multiprocessing=False, shuffle=False, workers=1)\n"
          ]
        },
        {
          "name": "stdout",
          "output_type": "stream",
          "text": [
            "1061/1061 [==============================] - 302s 283ms/step - loss: 0.2775 - accuracy: 0.8970 - val_loss: 0.1355 - val_accuracy: 0.9542\n",
            "Epoch 2/5\n",
            "1061/1061 [==============================] - 308s 290ms/step - loss: 0.1318 - accuracy: 0.9596 - val_loss: 0.1378 - val_accuracy: 0.9582\n",
            "Epoch 3/5\n",
            "1061/1061 [==============================] - 307s 289ms/step - loss: 0.0673 - accuracy: 0.9775 - val_loss: 0.5711 - val_accuracy: 0.9116\n",
            "Epoch 4/5\n",
            "1061/1061 [==============================] - 311s 293ms/step - loss: 0.0803 - accuracy: 0.9770 - val_loss: 0.1605 - val_accuracy: 0.9406\n",
            "Epoch 5/5\n",
            "1061/1061 [==============================] - 307s 289ms/step - loss: 0.0522 - accuracy: 0.9835 - val_loss: 0.1065 - val_accuracy: 0.9707\n"
          ]
        }
      ],
      "source": [
        "hist=incep_model.fit_generator(train_data, epochs=5,validation_data=valid_data,use_multiprocessing=False, shuffle=False, workers=1)"
      ]
    },
    {
      "cell_type": "code",
      "execution_count": 26,
      "metadata": {
        "colab": {
          "base_uri": "https://localhost:8080/",
          "height": 312
        },
        "id": "BN6Fsurocrnm",
        "outputId": "1f1224b3-4b35-42a8-a858-c4096b57fa2f"
      },
      "outputs": [
        {
          "data": {
            "text/plain": [
              "<matplotlib.legend.Legend at 0x2011355f670>"
            ]
          },
          "execution_count": 26,
          "metadata": {},
          "output_type": "execute_result"
        },
        {
          "data": {
            "image/png": "[encoded data removed]",
            "text/plain": [
              "<Figure size 432x288 with 1 Axes>"
            ]
          },
          "metadata": {
            "needs_background": "light"
          },
          "output_type": "display_data"
        }
      ],
      "source": [
        "plt.plot(hist.history['loss'], label='Training loss')\n",
        "plt.plot(hist.history['val_loss'], label='Validation loss')\n",
        "plt.xlabel(\"Epoches\")\n",
        "plt.ylabel(\"Training loss\")\n",
        "plt.title(\"Training loss progress\")\n",
        "plt.legend()"
      ]
    },
    {
      "cell_type": "code",
      "execution_count": 27,
      "metadata": {
        "colab": {
          "base_uri": "https://localhost:8080/",
          "height": 312
        },
        "id": "WmAjXMqecrkz",
        "outputId": "b66f1a34-d539-4505-9bf1-1d6968b27e26"
      },
      "outputs": [
        {
          "data": {
            "text/plain": [
              "<matplotlib.legend.Legend at 0x201135a0910>"
            ]
          },
          "execution_count": 27,
          "metadata": {},
          "output_type": "execute_result"
        },
        {
          "data": {
            "image/png": "[encoded data removed]",
            "text/plain": [
              "<Figure size 432x288 with 1 Axes>"
            ]
          },
          "metadata": {
            "needs_background": "light"
          },
          "output_type": "display_data"
        }
      ],
      "source": [
        "plt.plot(hist.history['accuracy'], label='Training Accuracy')\n",
        "plt.plot(hist.history['val_accuracy'], label='Validation Accuracy')\n",
        "plt.xlabel(\"Epoches\")\n",
        "plt.ylabel(\"Training Accuracy\")\n",
        "plt.title(\"Training Accuracy progress\")\n",
        "plt.legend()"
      ]
    },
    {
      "cell_type": "code",
      "execution_count": 30,
      "metadata": {
        "colab": {
          "base_uri": "https://localhost:8080/",
          "height": 34
        },
        "id": "48sswimxcrhi",
        "outputId": "7d934ae2-0182-4eff-fa59-075042726c3a"
      },
      "outputs": [
        {
          "name": "stdout",
          "output_type": "stream",
          "text": [
            "Found 8483 images belonging to 3 classes.\n"
          ]
        }
      ],
      "source": [
        "# prepare Training data\n",
        "\n",
        "train_generator=ImageDataGenerator(preprocessing_function=tf.keras.applications.inception_resnet_v2.preprocess_input)\n",
        "train_data=train_generator.flow_from_directory(\"E:/datasets/Covid_19_dataset/train\",target_size=(299,299),class_mode='categorical', batch_size=32, shuffle=False)"
      ]
    },
    {
      "cell_type": "code",
      "execution_count": 31,
      "metadata": {
        "colab": {
          "base_uri": "https://localhost:8080/",
          "height": 34
        },
        "id": "4QVwUbKGHcQc",
        "outputId": "7989ade7-0bac-4719-b402-534101b97b2b"
      },
      "outputs": [
        {
          "data": {
            "text/plain": [
              "array([0, 0, 0, ..., 2, 2, 2])"
            ]
          },
          "execution_count": 31,
          "metadata": {},
          "output_type": "execute_result"
        }
      ],
      "source": [
        "train_data.classes"
      ]
    },
    {
      "cell_type": "code",
      "execution_count": 34,
      "metadata": {
        "id": "tZlQFYxYcreL"
      },
      "outputs": [],
      "source": [
        "# Training Data\n",
        "actual_train_class=train_data.classes\n",
        "actual_valid_class=valid_data.classes\n",
        "from sklearn.metrics import confusion_matrix\n",
        "train_data.reset()\n",
        "y_train_pred = incep_model.predict(train_data)\n",
        "y_train_pred =np.argmax(y_train_pred, axis=1)\n"
      ]
    },
    {
      "cell_type": "code",
      "execution_count": 35,
      "metadata": {
        "colab": {
          "base_uri": "https://localhost:8080/",
          "height": 282
        },
        "id": "YUdzSdZaIOJO",
        "outputId": "5e6f25fe-47f3-475a-b4c9-88c49cc87002"
      },
      "outputs": [
        {
          "data": {
            "text/plain": [
              "0.9917482022869268"
            ]
          },
          "execution_count": 35,
          "metadata": {},
          "output_type": "execute_result"
        },
        {
          "data": {
            "image/png": "[encoded data removed]",
            "text/plain": [
              "<Figure size 432x288 with 1 Axes>"
            ]
          },
          "metadata": {
            "needs_background": "light"
          },
          "output_type": "display_data"
        }
      ],
      "source": [
        "cm = confusion_matrix(actual_train_class, y_train_pred)\n",
        "sns.heatmap(cm, annot=True,fmt='d', xticklabels=['Covid','Normal','Pneumonia'], yticklabels=['Covid','Normal','Pneumonia'],cbar=False)\n",
        "from sklearn.metrics import accuracy_score, classification_report\n",
        "accuracy_score(actual_train_class, y_train_pred)"
      ]
    },
    {
      "cell_type": "code",
      "execution_count": 36,
      "metadata": {
        "colab": {
          "base_uri": "https://localhost:8080/",
          "height": 187
        },
        "id": "sCbvwYsRcrbC",
        "outputId": "65ccadfe-32e2-4eac-fd81-9901a10e1f16"
      },
      "outputs": [
        {
          "name": "stdout",
          "output_type": "stream",
          "text": [
            "              precision    recall  f1-score   support\n",
            "\n",
            "           0       1.00      1.00      1.00      2023\n",
            "           1       0.99      1.00      0.99      5707\n",
            "           2       1.00      0.92      0.96       753\n",
            "\n",
            "    accuracy                           0.99      8483\n",
            "   macro avg       0.99      0.97      0.98      8483\n",
            "weighted avg       0.99      0.99      0.99      8483\n",
            "\n"
          ]
        }
      ],
      "source": [
        "print(classification_report(actual_train_class, y_train_pred))"
      ]
    },
    {
      "cell_type": "code",
      "execution_count": 37,
      "metadata": {
        "colab": {
          "base_uri": "https://localhost:8080/",
          "height": 51
        },
        "id": "jiQAuIc0crYp",
        "outputId": "08506d9f-6273-4ad2-ae25-43976a7cba3d"
      },
      "outputs": [
        {
          "name": "stdout",
          "output_type": "stream",
          "text": [
            "620/620 [==============================] - 52s 83ms/step - loss: 0.1065 - accuracy: 0.9707\n",
            "[0.10651744157075882, 0.9707248210906982]\n"
          ]
        }
      ],
      "source": [
        "print(incep_model.evaluate(valid_data))"
      ]
    },
    {
      "cell_type": "code",
      "execution_count": 38,
      "metadata": {
        "colab": {
          "base_uri": "https://localhost:8080/",
          "height": 34
        },
        "id": "OXqIraBccrVj",
        "outputId": "4755a06d-64f0-4489-b8cd-99d79524ed67"
      },
      "outputs": [
        {
          "name": "stdout",
          "output_type": "stream",
          "text": [
            "Found 4953 images belonging to 3 classes.\n"
          ]
        }
      ],
      "source": [
        "# prepare Validation data\n",
        "\n",
        "valid_generator=ImageDataGenerator(preprocessing_function=tf.keras.applications.inception_resnet_v2.preprocess_input)\n",
        "valid_data=valid_generator.flow_from_directory(\"E:/datasets/Covid_19_dataset/validate\",target_size=(299,299),class_mode='categorical',shuffle=False,batch_size=32)"
      ]
    },
    {
      "cell_type": "code",
      "execution_count": 39,
      "metadata": {
        "colab": {
          "base_uri": "https://localhost:8080/",
          "height": 282
        },
        "id": "UbAQHHzAcrSs",
        "outputId": "42077b09-c208-4c16-f4af-b78f620791a8"
      },
      "outputs": [
        {
          "data": {
            "text/plain": [
              "<AxesSubplot:>"
            ]
          },
          "execution_count": 39,
          "metadata": {},
          "output_type": "execute_result"
        },
        {
          "data": {
            "image/png": "[encoded data removed]",
            "text/plain": [
              "<Figure size 432x288 with 1 Axes>"
            ]
          },
          "metadata": {
            "needs_background": "light"
          },
          "output_type": "display_data"
        }
      ],
      "source": [
        "# Validation Data\n",
        "\n",
        "from sklearn.metrics import confusion_matrix\n",
        "\n",
        "y_valid_pred = incep_model.predict(valid_data)\n",
        "y_valid_pred =np.argmax(y_valid_pred, axis=1)\n",
        "\n",
        "cm = confusion_matrix(actual_valid_class, y_valid_pred)\n",
        "sns.heatmap(cm, annot=True,fmt='d', xticklabels=['Covid','Normal','Pneumonia'], yticklabels=['Covid','Normal','Pneumonia'],cbar=False)"
      ]
    },
    {
      "cell_type": "code",
      "execution_count": 40,
      "metadata": {
        "colab": {
          "base_uri": "https://localhost:8080/",
          "height": 204
        },
        "id": "YRkLC4V1crQC",
        "outputId": "02a70a3c-5479-4b8f-b963-b1a25f51076d"
      },
      "outputs": [
        {
          "name": "stdout",
          "output_type": "stream",
          "text": [
            "0.9707248132444983\n",
            "              precision    recall  f1-score   support\n",
            "\n",
            "           0       0.98      0.90      0.94       869\n",
            "           1       0.97      1.00      0.98      3761\n",
            "           2       1.00      0.86      0.92       323\n",
            "\n",
            "    accuracy                           0.97      4953\n",
            "   macro avg       0.98      0.92      0.95      4953\n",
            "weighted avg       0.97      0.97      0.97      4953\n",
            "\n"
          ]
        }
      ],
      "source": [
        "print(accuracy_score(actual_valid_class, y_valid_pred))\n",
        "print(classification_report(actual_valid_class, y_valid_pred))"
      ]
    },
    {
      "cell_type": "code",
      "execution_count": 41,
      "metadata": {
        "colab": {
          "base_uri": "https://localhost:8080/",
          "height": 34
        },
        "id": "Mo6DOEDqcrM7",
        "outputId": "b86938f6-2901-4a3d-f2d7-97b48e74855a"
      },
      "outputs": [
        {
          "name": "stdout",
          "output_type": "stream",
          "text": [
            "Found 1717 images belonging to 3 classes.\n"
          ]
        }
      ],
      "source": [
        "# test Data\n",
        "\n",
        "test_generator=ImageDataGenerator(preprocessing_function=tf.keras.applications.inception_resnet_v2.preprocess_input)\n",
        "test_data=test_generator.flow_from_directory(\"E:/datasets/Covid_19_dataset/test\",target_size=(299,299),class_mode='categorical', batch_size=32, shuffle=False)\n"
      ]
    },
    {
      "cell_type": "code",
      "execution_count": 42,
      "metadata": {
        "colab": {
          "base_uri": "https://localhost:8080/",
          "height": 282
        },
        "id": "KA9WhCXVcrKR",
        "outputId": "5aef8d2c-40d6-41cb-f97c-6dbb11752604"
      },
      "outputs": [
        {
          "data": {
            "text/plain": [
              "0.9569015725101921"
            ]
          },
          "execution_count": 42,
          "metadata": {},
          "output_type": "execute_result"
        },
        {
          "data": {
            "image/png": "[encoded data removed]",
            "text/plain": [
              "<Figure size 432x288 with 1 Axes>"
            ]
          },
          "metadata": {
            "needs_background": "light"
          },
          "output_type": "display_data"
        }
      ],
      "source": [
        "# Test Data\n",
        "actual_test_class=test_data.classes\n",
        "train_data.reset()\n",
        "y_test_pred = incep_model.predict(test_data)\n",
        "y_test_pred = np.argmax(y_test_pred, axis=1)\n",
        "cm = confusion_matrix(actual_test_class, y_test_pred)\n",
        "sns.heatmap(cm, annot=True,fmt='d', xticklabels=['Covid','Normal','Pneumonia'], yticklabels=['Covid','Normal','Pneumonia'],cbar=False)\n",
        "from sklearn.metrics import accuracy_score, classification_report\n",
        "accuracy_score(actual_test_class, y_test_pred)"
      ]
    },
    {
      "cell_type": "code",
      "execution_count": 43,
      "metadata": {
        "colab": {
          "base_uri": "https://localhost:8080/",
          "height": 51
        },
        "id": "pXYJBODBcrHG",
        "outputId": "88b765cf-ee6b-4be9-a664-41645bc92dd1"
      },
      "outputs": [
        {
          "name": "stdout",
          "output_type": "stream",
          "text": [
            "54/54 [==============================] - 13s 225ms/step - loss: 0.1363 - accuracy: 0.9569\n",
            "[0.1363382339477539, 0.9569015502929688]\n"
          ]
        }
      ],
      "source": [
        "print(incep_model.evaluate(test_data))"
      ]
    },
    {
      "cell_type": "code",
      "execution_count": 44,
      "metadata": {
        "colab": {
          "base_uri": "https://localhost:8080/",
          "height": 204
        },
        "id": "Tm4HcgjaeMbB",
        "outputId": "efce4502-c303-4c7d-d258-87a376dced97"
      },
      "outputs": [
        {
          "name": "stdout",
          "output_type": "stream",
          "text": [
            "0.9569015725101921\n",
            "              precision    recall  f1-score   support\n",
            "\n",
            "           0       0.99      0.95      0.97       724\n",
            "           1       0.91      1.00      0.96       724\n",
            "           2       1.00      0.87      0.93       269\n",
            "\n",
            "    accuracy                           0.96      1717\n",
            "   macro avg       0.97      0.94      0.95      1717\n",
            "weighted avg       0.96      0.96      0.96      1717\n",
            "\n"
          ]
        }
      ],
      "source": [
        "print(accuracy_score(actual_test_class, y_test_pred))\n",
        "print(classification_report(actual_test_class, y_test_pred))"
      ]
    }
  ],
  "metadata": {
    "accelerator": "GPU",
    "colab": {
      "collapsed_sections": [],
      "name": "new_InceptionNet.ipynb",
      "provenance": []
    },
    "kernelspec": {
      "display_name": "Python 3",
      "name": "python3"
    },
    "language_info": {
      "codemirror_mode": {
        "name": "ipython",
        "version": 3
      },
      "file_extension": ".py",
      "mimetype": "text/x-python",
      "name": "python",
      "nbconvert_exporter": "python",
      "pygments_lexer": "ipython3",
      "version": "3.10.2"
    }
  },
  "nbformat": 4,
  "nbformat_minor": 0
}
